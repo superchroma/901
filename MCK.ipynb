{
  "nbformat": 4,
  "nbformat_minor": 0,
  "metadata": {
    "colab": {
      "name": "MCK.ipynb",
      "provenance": [],
      "collapsed_sections": [],
      "authorship_tag": "ABX9TyOtz5h/DrPZHyUh3ZXLxpze",
      "include_colab_link": true
    },
    "kernelspec": {
      "name": "python3",
      "display_name": "Python 3"
    },
    "language_info": {
      "name": "python"
    }
  },
  "cells": [
    {
      "cell_type": "markdown",
      "metadata": {
        "id": "view-in-github",
        "colab_type": "text"
      },
      "source": [
        "<a href=\"https://colab.research.google.com/github/superchromat/901/blob/main/MCK.ipynb\" target=\"_parent\"><img src=\"https://colab.research.google.com/assets/colab-badge.svg\" alt=\"Open In Colab\"/></a>"
      ]
    },
    {
      "cell_type": "markdown",
      "source": [
        "Notebook for data analysis for 901."
      ],
      "metadata": {
        "id": "2ZknqzJKsa-R"
      }
    },
    {
      "cell_type": "code",
      "execution_count": 78,
      "metadata": {
        "id": "dEKL32US_aE5"
      },
      "outputs": [],
      "source": [
        "import numpy as np\n",
        "import pandas as pd\n",
        "import matplotlib.pyplot as plt\n",
        "import seaborn as sns\n",
        "from sklearn.preprocessing import MinMaxScaler\n",
        "from sklearn.preprocessing import StandardScaler\n",
        "from sklearn.compose import ColumnTransformer\n",
        "from sklearn.linear_model import LinearRegression\n",
        "from sklearn.svm import SVR\n",
        "from sklearn.linear_model import SGDRegressor"
      ]
    },
    {
      "cell_type": "code",
      "source": [
        "df = pd.read_csv(\"https://raw.githubusercontent.com/superchromat/901/main/MCK.csv\")\n",
        "df"
      ],
      "metadata": {
        "id": "e4WEzL0c_hMl",
        "colab": {
          "base_uri": "https://localhost:8080/",
          "height": 424
        },
        "outputId": "7de98a6f-8424-4bd5-f4d6-6a050d790733"
      },
      "execution_count": 79,
      "outputs": [
        {
          "output_type": "execute_result",
          "data": {
            "text/plain": [
              "     Acceleration  Velocity    Position      Force\n",
              "0        0.160962 -0.482996   45.158492  42.924609\n",
              "1        0.155914 -0.327082   44.831410  55.068349\n",
              "2        0.150866 -0.176215   44.655195  66.607411\n",
              "3        0.145818 -0.030397   44.624799  77.556175\n",
              "4        0.140771  0.110374   44.735173  87.929025\n",
              "..            ...       ...         ...        ...\n",
              "99      -0.034629  0.085888  183.456690  10.286581\n",
              "100     -0.033274  0.052614  183.509304   8.326980\n",
              "101     -0.031919  0.020696  183.530000   6.420293\n",
              "102     -0.030563 -0.009868  183.520132   4.565424\n",
              "103     -0.029208 -0.039076  183.481057   2.761275\n",
              "\n",
              "[104 rows x 4 columns]"
            ],
            "text/html": [
              "\n",
              "  <div id=\"df-949ca913-9b0a-4846-b88c-e8c22cd72cf0\">\n",
              "    <div class=\"colab-df-container\">\n",
              "      <div>\n",
              "<style scoped>\n",
              "    .dataframe tbody tr th:only-of-type {\n",
              "        vertical-align: middle;\n",
              "    }\n",
              "\n",
              "    .dataframe tbody tr th {\n",
              "        vertical-align: top;\n",
              "    }\n",
              "\n",
              "    .dataframe thead th {\n",
              "        text-align: right;\n",
              "    }\n",
              "</style>\n",
              "<table border=\"1\" class=\"dataframe\">\n",
              "  <thead>\n",
              "    <tr style=\"text-align: right;\">\n",
              "      <th></th>\n",
              "      <th>Acceleration</th>\n",
              "      <th>Velocity</th>\n",
              "      <th>Position</th>\n",
              "      <th>Force</th>\n",
              "    </tr>\n",
              "  </thead>\n",
              "  <tbody>\n",
              "    <tr>\n",
              "      <th>0</th>\n",
              "      <td>0.160962</td>\n",
              "      <td>-0.482996</td>\n",
              "      <td>45.158492</td>\n",
              "      <td>42.924609</td>\n",
              "    </tr>\n",
              "    <tr>\n",
              "      <th>1</th>\n",
              "      <td>0.155914</td>\n",
              "      <td>-0.327082</td>\n",
              "      <td>44.831410</td>\n",
              "      <td>55.068349</td>\n",
              "    </tr>\n",
              "    <tr>\n",
              "      <th>2</th>\n",
              "      <td>0.150866</td>\n",
              "      <td>-0.176215</td>\n",
              "      <td>44.655195</td>\n",
              "      <td>66.607411</td>\n",
              "    </tr>\n",
              "    <tr>\n",
              "      <th>3</th>\n",
              "      <td>0.145818</td>\n",
              "      <td>-0.030397</td>\n",
              "      <td>44.624799</td>\n",
              "      <td>77.556175</td>\n",
              "    </tr>\n",
              "    <tr>\n",
              "      <th>4</th>\n",
              "      <td>0.140771</td>\n",
              "      <td>0.110374</td>\n",
              "      <td>44.735173</td>\n",
              "      <td>87.929025</td>\n",
              "    </tr>\n",
              "    <tr>\n",
              "      <th>...</th>\n",
              "      <td>...</td>\n",
              "      <td>...</td>\n",
              "      <td>...</td>\n",
              "      <td>...</td>\n",
              "    </tr>\n",
              "    <tr>\n",
              "      <th>99</th>\n",
              "      <td>-0.034629</td>\n",
              "      <td>0.085888</td>\n",
              "      <td>183.456690</td>\n",
              "      <td>10.286581</td>\n",
              "    </tr>\n",
              "    <tr>\n",
              "      <th>100</th>\n",
              "      <td>-0.033274</td>\n",
              "      <td>0.052614</td>\n",
              "      <td>183.509304</td>\n",
              "      <td>8.326980</td>\n",
              "    </tr>\n",
              "    <tr>\n",
              "      <th>101</th>\n",
              "      <td>-0.031919</td>\n",
              "      <td>0.020696</td>\n",
              "      <td>183.530000</td>\n",
              "      <td>6.420293</td>\n",
              "    </tr>\n",
              "    <tr>\n",
              "      <th>102</th>\n",
              "      <td>-0.030563</td>\n",
              "      <td>-0.009868</td>\n",
              "      <td>183.520132</td>\n",
              "      <td>4.565424</td>\n",
              "    </tr>\n",
              "    <tr>\n",
              "      <th>103</th>\n",
              "      <td>-0.029208</td>\n",
              "      <td>-0.039076</td>\n",
              "      <td>183.481057</td>\n",
              "      <td>2.761275</td>\n",
              "    </tr>\n",
              "  </tbody>\n",
              "</table>\n",
              "<p>104 rows × 4 columns</p>\n",
              "</div>\n",
              "      <button class=\"colab-df-convert\" onclick=\"convertToInteractive('df-949ca913-9b0a-4846-b88c-e8c22cd72cf0')\"\n",
              "              title=\"Convert this dataframe to an interactive table.\"\n",
              "              style=\"display:none;\">\n",
              "        \n",
              "  <svg xmlns=\"http://www.w3.org/2000/svg\" height=\"24px\"viewBox=\"0 0 24 24\"\n",
              "       width=\"24px\">\n",
              "    <path d=\"M0 0h24v24H0V0z\" fill=\"none\"/>\n",
              "    <path d=\"M18.56 5.44l.94 2.06.94-2.06 2.06-.94-2.06-.94-.94-2.06-.94 2.06-2.06.94zm-11 1L8.5 8.5l.94-2.06 2.06-.94-2.06-.94L8.5 2.5l-.94 2.06-2.06.94zm10 10l.94 2.06.94-2.06 2.06-.94-2.06-.94-.94-2.06-.94 2.06-2.06.94z\"/><path d=\"M17.41 7.96l-1.37-1.37c-.4-.4-.92-.59-1.43-.59-.52 0-1.04.2-1.43.59L10.3 9.45l-7.72 7.72c-.78.78-.78 2.05 0 2.83L4 21.41c.39.39.9.59 1.41.59.51 0 1.02-.2 1.41-.59l7.78-7.78 2.81-2.81c.8-.78.8-2.07 0-2.86zM5.41 20L4 18.59l7.72-7.72 1.47 1.35L5.41 20z\"/>\n",
              "  </svg>\n",
              "      </button>\n",
              "      \n",
              "  <style>\n",
              "    .colab-df-container {\n",
              "      display:flex;\n",
              "      flex-wrap:wrap;\n",
              "      gap: 12px;\n",
              "    }\n",
              "\n",
              "    .colab-df-convert {\n",
              "      background-color: #E8F0FE;\n",
              "      border: none;\n",
              "      border-radius: 50%;\n",
              "      cursor: pointer;\n",
              "      display: none;\n",
              "      fill: #1967D2;\n",
              "      height: 32px;\n",
              "      padding: 0 0 0 0;\n",
              "      width: 32px;\n",
              "    }\n",
              "\n",
              "    .colab-df-convert:hover {\n",
              "      background-color: #E2EBFA;\n",
              "      box-shadow: 0px 1px 2px rgba(60, 64, 67, 0.3), 0px 1px 3px 1px rgba(60, 64, 67, 0.15);\n",
              "      fill: #174EA6;\n",
              "    }\n",
              "\n",
              "    [theme=dark] .colab-df-convert {\n",
              "      background-color: #3B4455;\n",
              "      fill: #D2E3FC;\n",
              "    }\n",
              "\n",
              "    [theme=dark] .colab-df-convert:hover {\n",
              "      background-color: #434B5C;\n",
              "      box-shadow: 0px 1px 3px 1px rgba(0, 0, 0, 0.15);\n",
              "      filter: drop-shadow(0px 1px 2px rgba(0, 0, 0, 0.3));\n",
              "      fill: #FFFFFF;\n",
              "    }\n",
              "  </style>\n",
              "\n",
              "      <script>\n",
              "        const buttonEl =\n",
              "          document.querySelector('#df-949ca913-9b0a-4846-b88c-e8c22cd72cf0 button.colab-df-convert');\n",
              "        buttonEl.style.display =\n",
              "          google.colab.kernel.accessAllowed ? 'block' : 'none';\n",
              "\n",
              "        async function convertToInteractive(key) {\n",
              "          const element = document.querySelector('#df-949ca913-9b0a-4846-b88c-e8c22cd72cf0');\n",
              "          const dataTable =\n",
              "            await google.colab.kernel.invokeFunction('convertToInteractive',\n",
              "                                                     [key], {});\n",
              "          if (!dataTable) return;\n",
              "\n",
              "          const docLinkHtml = 'Like what you see? Visit the ' +\n",
              "            '<a target=\"_blank\" href=https://colab.research.google.com/notebooks/data_table.ipynb>data table notebook</a>'\n",
              "            + ' to learn more about interactive tables.';\n",
              "          element.innerHTML = '';\n",
              "          dataTable['output_type'] = 'display_data';\n",
              "          await google.colab.output.renderOutput(dataTable, element);\n",
              "          const docLink = document.createElement('div');\n",
              "          docLink.innerHTML = docLinkHtml;\n",
              "          element.appendChild(docLink);\n",
              "        }\n",
              "      </script>\n",
              "    </div>\n",
              "  </div>\n",
              "  "
            ]
          },
          "metadata": {},
          "execution_count": 79
        }
      ]
    },
    {
      "cell_type": "code",
      "source": [
        "df.describe()"
      ],
      "metadata": {
        "colab": {
          "base_uri": "https://localhost:8080/",
          "height": 300
        },
        "id": "v12Aj6DHnkqY",
        "outputId": "0584520f-ca6f-488a-c5a9-f530f5b660bd"
      },
      "execution_count": 80,
      "outputs": [
        {
          "output_type": "execute_result",
          "data": {
            "text/plain": [
              "       Acceleration    Velocity    Position       Force\n",
              "count    104.000000  104.000000  104.000000  104.000000\n",
              "mean       0.005816    1.325380  122.085437  117.811368\n",
              "std        0.062385    0.807526   50.455441   64.187470\n",
              "min       -0.050069   -0.482996   44.624799    2.761275\n",
              "25%       -0.044106    0.627002   72.631178   60.910946\n",
              "50%       -0.025422    1.481611  130.152720  125.734657\n",
              "75%        0.045148    2.081039  172.121310  179.353106\n",
              "max        0.160962    2.307929  183.530000  199.769691"
            ],
            "text/html": [
              "\n",
              "  <div id=\"df-a0c799c1-2402-4dfd-b142-7b658be2bd7e\">\n",
              "    <div class=\"colab-df-container\">\n",
              "      <div>\n",
              "<style scoped>\n",
              "    .dataframe tbody tr th:only-of-type {\n",
              "        vertical-align: middle;\n",
              "    }\n",
              "\n",
              "    .dataframe tbody tr th {\n",
              "        vertical-align: top;\n",
              "    }\n",
              "\n",
              "    .dataframe thead th {\n",
              "        text-align: right;\n",
              "    }\n",
              "</style>\n",
              "<table border=\"1\" class=\"dataframe\">\n",
              "  <thead>\n",
              "    <tr style=\"text-align: right;\">\n",
              "      <th></th>\n",
              "      <th>Acceleration</th>\n",
              "      <th>Velocity</th>\n",
              "      <th>Position</th>\n",
              "      <th>Force</th>\n",
              "    </tr>\n",
              "  </thead>\n",
              "  <tbody>\n",
              "    <tr>\n",
              "      <th>count</th>\n",
              "      <td>104.000000</td>\n",
              "      <td>104.000000</td>\n",
              "      <td>104.000000</td>\n",
              "      <td>104.000000</td>\n",
              "    </tr>\n",
              "    <tr>\n",
              "      <th>mean</th>\n",
              "      <td>0.005816</td>\n",
              "      <td>1.325380</td>\n",
              "      <td>122.085437</td>\n",
              "      <td>117.811368</td>\n",
              "    </tr>\n",
              "    <tr>\n",
              "      <th>std</th>\n",
              "      <td>0.062385</td>\n",
              "      <td>0.807526</td>\n",
              "      <td>50.455441</td>\n",
              "      <td>64.187470</td>\n",
              "    </tr>\n",
              "    <tr>\n",
              "      <th>min</th>\n",
              "      <td>-0.050069</td>\n",
              "      <td>-0.482996</td>\n",
              "      <td>44.624799</td>\n",
              "      <td>2.761275</td>\n",
              "    </tr>\n",
              "    <tr>\n",
              "      <th>25%</th>\n",
              "      <td>-0.044106</td>\n",
              "      <td>0.627002</td>\n",
              "      <td>72.631178</td>\n",
              "      <td>60.910946</td>\n",
              "    </tr>\n",
              "    <tr>\n",
              "      <th>50%</th>\n",
              "      <td>-0.025422</td>\n",
              "      <td>1.481611</td>\n",
              "      <td>130.152720</td>\n",
              "      <td>125.734657</td>\n",
              "    </tr>\n",
              "    <tr>\n",
              "      <th>75%</th>\n",
              "      <td>0.045148</td>\n",
              "      <td>2.081039</td>\n",
              "      <td>172.121310</td>\n",
              "      <td>179.353106</td>\n",
              "    </tr>\n",
              "    <tr>\n",
              "      <th>max</th>\n",
              "      <td>0.160962</td>\n",
              "      <td>2.307929</td>\n",
              "      <td>183.530000</td>\n",
              "      <td>199.769691</td>\n",
              "    </tr>\n",
              "  </tbody>\n",
              "</table>\n",
              "</div>\n",
              "      <button class=\"colab-df-convert\" onclick=\"convertToInteractive('df-a0c799c1-2402-4dfd-b142-7b658be2bd7e')\"\n",
              "              title=\"Convert this dataframe to an interactive table.\"\n",
              "              style=\"display:none;\">\n",
              "        \n",
              "  <svg xmlns=\"http://www.w3.org/2000/svg\" height=\"24px\"viewBox=\"0 0 24 24\"\n",
              "       width=\"24px\">\n",
              "    <path d=\"M0 0h24v24H0V0z\" fill=\"none\"/>\n",
              "    <path d=\"M18.56 5.44l.94 2.06.94-2.06 2.06-.94-2.06-.94-.94-2.06-.94 2.06-2.06.94zm-11 1L8.5 8.5l.94-2.06 2.06-.94-2.06-.94L8.5 2.5l-.94 2.06-2.06.94zm10 10l.94 2.06.94-2.06 2.06-.94-2.06-.94-.94-2.06-.94 2.06-2.06.94z\"/><path d=\"M17.41 7.96l-1.37-1.37c-.4-.4-.92-.59-1.43-.59-.52 0-1.04.2-1.43.59L10.3 9.45l-7.72 7.72c-.78.78-.78 2.05 0 2.83L4 21.41c.39.39.9.59 1.41.59.51 0 1.02-.2 1.41-.59l7.78-7.78 2.81-2.81c.8-.78.8-2.07 0-2.86zM5.41 20L4 18.59l7.72-7.72 1.47 1.35L5.41 20z\"/>\n",
              "  </svg>\n",
              "      </button>\n",
              "      \n",
              "  <style>\n",
              "    .colab-df-container {\n",
              "      display:flex;\n",
              "      flex-wrap:wrap;\n",
              "      gap: 12px;\n",
              "    }\n",
              "\n",
              "    .colab-df-convert {\n",
              "      background-color: #E8F0FE;\n",
              "      border: none;\n",
              "      border-radius: 50%;\n",
              "      cursor: pointer;\n",
              "      display: none;\n",
              "      fill: #1967D2;\n",
              "      height: 32px;\n",
              "      padding: 0 0 0 0;\n",
              "      width: 32px;\n",
              "    }\n",
              "\n",
              "    .colab-df-convert:hover {\n",
              "      background-color: #E2EBFA;\n",
              "      box-shadow: 0px 1px 2px rgba(60, 64, 67, 0.3), 0px 1px 3px 1px rgba(60, 64, 67, 0.15);\n",
              "      fill: #174EA6;\n",
              "    }\n",
              "\n",
              "    [theme=dark] .colab-df-convert {\n",
              "      background-color: #3B4455;\n",
              "      fill: #D2E3FC;\n",
              "    }\n",
              "\n",
              "    [theme=dark] .colab-df-convert:hover {\n",
              "      background-color: #434B5C;\n",
              "      box-shadow: 0px 1px 3px 1px rgba(0, 0, 0, 0.15);\n",
              "      filter: drop-shadow(0px 1px 2px rgba(0, 0, 0, 0.3));\n",
              "      fill: #FFFFFF;\n",
              "    }\n",
              "  </style>\n",
              "\n",
              "      <script>\n",
              "        const buttonEl =\n",
              "          document.querySelector('#df-a0c799c1-2402-4dfd-b142-7b658be2bd7e button.colab-df-convert');\n",
              "        buttonEl.style.display =\n",
              "          google.colab.kernel.accessAllowed ? 'block' : 'none';\n",
              "\n",
              "        async function convertToInteractive(key) {\n",
              "          const element = document.querySelector('#df-a0c799c1-2402-4dfd-b142-7b658be2bd7e');\n",
              "          const dataTable =\n",
              "            await google.colab.kernel.invokeFunction('convertToInteractive',\n",
              "                                                     [key], {});\n",
              "          if (!dataTable) return;\n",
              "\n",
              "          const docLinkHtml = 'Like what you see? Visit the ' +\n",
              "            '<a target=\"_blank\" href=https://colab.research.google.com/notebooks/data_table.ipynb>data table notebook</a>'\n",
              "            + ' to learn more about interactive tables.';\n",
              "          element.innerHTML = '';\n",
              "          dataTable['output_type'] = 'display_data';\n",
              "          await google.colab.output.renderOutput(dataTable, element);\n",
              "          const docLink = document.createElement('div');\n",
              "          docLink.innerHTML = docLinkHtml;\n",
              "          element.appendChild(docLink);\n",
              "        }\n",
              "      </script>\n",
              "    </div>\n",
              "  </div>\n",
              "  "
            ]
          },
          "metadata": {},
          "execution_count": 80
        }
      ]
    },
    {
      "cell_type": "code",
      "source": [
        "'''\n",
        "scaler = MinMaxScaler()\n",
        "df_features = ['Acceleration','Velocity', 'Position', 'Force']\n",
        "# column transformer\n",
        "df_scaler = ColumnTransformer([\n",
        "        ('num features', scaler, df_features),], remainder='passthrough')\n",
        "df = df_scaler.fit_transform(df)\n",
        "df = pd.DataFrame(df, columns=df_features)  \n",
        "'''"
      ],
      "metadata": {
        "id": "eF4qpYC6YwLb",
        "colab": {
          "base_uri": "https://localhost:8080/",
          "height": 71
        },
        "outputId": "7257a3bc-4b65-4ede-912a-951f019ca4c8"
      },
      "execution_count": 81,
      "outputs": [
        {
          "output_type": "execute_result",
          "data": {
            "text/plain": [
              "\"\\nscaler = MinMaxScaler()\\ndf_features = ['Acceleration','Velocity', 'Position', 'Force']\\n# column transformer\\ndf_scaler = ColumnTransformer([\\n        ('num features', scaler, df_features),], remainder='passthrough')\\ndf = df_scaler.fit_transform(df)\\ndf = pd.DataFrame(df, columns=df_features)  \\n\""
            ],
            "application/vnd.google.colaboratory.intrinsic+json": {
              "type": "string"
            }
          },
          "metadata": {},
          "execution_count": 81
        }
      ]
    },
    {
      "cell_type": "code",
      "source": [
        "# independent values\n",
        "X = df[['Acceleration','Velocity', 'Position']]\n",
        "# dependent values\n",
        "y = df['Force']"
      ],
      "metadata": {
        "id": "zIoZJznsAvgS"
      },
      "execution_count": 82,
      "outputs": []
    },
    {
      "cell_type": "code",
      "source": [
        "y.shape"
      ],
      "metadata": {
        "colab": {
          "base_uri": "https://localhost:8080/"
        },
        "id": "K2uziAZL5mxX",
        "outputId": "73beb1be-7406-4e25-8bac-db00e6c80366"
      },
      "execution_count": 83,
      "outputs": [
        {
          "output_type": "execute_result",
          "data": {
            "text/plain": [
              "(104,)"
            ]
          },
          "metadata": {},
          "execution_count": 83
        }
      ]
    },
    {
      "cell_type": "markdown",
      "source": [
        "Using Linear Regression"
      ],
      "metadata": {
        "id": "H6uvVp0t7GWy"
      }
    },
    {
      "cell_type": "code",
      "source": [
        "reg = LinearRegression(fit_intercept=False)\n",
        "reg.fit(X,y)\n",
        "#print('Intercept: \\n', reg.intercept_)\n",
        "print('Coefficients:\\n M                 C              K \\n', reg.coef_)"
      ],
      "metadata": {
        "colab": {
          "base_uri": "https://localhost:8080/"
        },
        "id": "uVkG--hTCDpT",
        "outputId": "50141cb9-b127-49ba-f870-675a46082a20"
      },
      "execution_count": 84,
      "outputs": [
        {
          "output_type": "stream",
          "name": "stdout",
          "text": [
            "Coefficients:\n",
            " M                 C              K \n",
            " [5.95702639e+02 7.71863176e+01 9.81823602e-02]\n"
          ]
        }
      ]
    },
    {
      "cell_type": "markdown",
      "source": [
        "Using a support vector regression with a polynomial kernel."
      ],
      "metadata": {
        "id": "pSv7muY3bw3L"
      }
    },
    {
      "cell_type": "code",
      "source": [
        "\n",
        "svr = SVR(kernel = 'linear', degree=3)\n",
        "svr.fit(X, y)\n",
        "print('Coefficients:\\n M                 C              K \\n', svr.coef_)\n",
        "print('Intercept: \\n', svr.intercept_)"
      ],
      "metadata": {
        "colab": {
          "base_uri": "https://localhost:8080/"
        },
        "id": "54_xm_K7MJiH",
        "outputId": "e5ebec66-ecb7-4f78-81b5-8cdbad10c7e3"
      },
      "execution_count": 85,
      "outputs": [
        {
          "output_type": "stream",
          "name": "stdout",
          "text": [
            "Coefficients:\n",
            " M                 C              K \n",
            " [[-1.41774257 49.11557141 -0.79731318]]\n",
            "Intercept: \n",
            " [152.9892499]\n"
          ]
        }
      ]
    },
    {
      "cell_type": "markdown",
      "source": [
        "Using SGD Regression"
      ],
      "metadata": {
        "id": "NSxYSuojcuXH"
      }
    },
    {
      "cell_type": "code",
      "source": [
        "sgd = SGDRegressor(loss='squared_error', fit_intercept=False, epsilon=0.1, random_state=None, learning_rate='invscaling', eta0=0.01, power_t=0.25, early_stopping=False, validation_fraction=0.1, n_iter_no_change=5, warm_start=False, average=False)\n",
        "sgd.fit(X, y)\n",
        "print('Coefficients:\\n M                 C              K \\n', sgd.coef_)"
      ],
      "metadata": {
        "colab": {
          "base_uri": "https://localhost:8080/"
        },
        "id": "WdvBiQ7ecu4D",
        "outputId": "d251e8b0-676b-47fa-9300-147fbfdbf0cb"
      },
      "execution_count": 86,
      "outputs": [
        {
          "output_type": "stream",
          "name": "stdout",
          "text": [
            "Coefficients:\n",
            " M                 C              K \n",
            " [-9.95597191e+09 -4.72783072e+10  2.09846887e+11]\n"
          ]
        }
      ]
    },
    {
      "cell_type": "markdown",
      "source": [
        "This output includes the intercept and coefficients. We can use this information to build the multiple linear regression equation as follows:\n",
        "\n",
        "Force = (Intercept) + (M_coef)*Acceleration + (C_coef)*Velocity + (K_coef)*Position"
      ],
      "metadata": {
        "id": "-q3670nhziZj"
      }
    },
    {
      "cell_type": "markdown",
      "source": [
        "Draw scatterplots of the Parameters in relation to the Force."
      ],
      "metadata": {
        "id": "33OYu74TnsSZ"
      }
    },
    {
      "cell_type": "code",
      "source": [
        "'''\n",
        "plt.scatter(df['Acceleration'], df['Force'], label='Acceleration', color='red')\n",
        "plt.scatter(df['Velocity'], df['Force'], label='Velocity', color='blue')\n",
        "plt.scatter(df['Position'], df['Force'], label='Position', color='yellow')\n",
        "\n",
        "plt.title('', fontsize=14)\n",
        "#plt.xlabel('X-Axis', fontsize=14)\n",
        "plt.ylabel('Net Force', fontsize=14)\n",
        "plt.legend(loc='best',fancybox=True, shadow=True)\n",
        "plt.grid(True)\n",
        "#plt.show()\n",
        "'''"
      ],
      "metadata": {
        "colab": {
          "base_uri": "https://localhost:8080/",
          "height": 89
        },
        "id": "yaOqTXdQGK3N",
        "outputId": "c0a9cb7f-56e5-4902-cd3b-e892edc86203"
      },
      "execution_count": 87,
      "outputs": [
        {
          "output_type": "execute_result",
          "data": {
            "text/plain": [
              "\"\\nplt.scatter(df['Acceleration'], df['Force'], label='Acceleration', color='red')\\nplt.scatter(df['Velocity'], df['Force'], label='Velocity', color='blue')\\nplt.scatter(df['Position'], df['Force'], label='Position', color='yellow')\\n\\nplt.title('', fontsize=14)\\n#plt.xlabel('X-Axis', fontsize=14)\\nplt.ylabel('Net Force', fontsize=14)\\nplt.legend(loc='best',fancybox=True, shadow=True)\\nplt.grid(True)\\n#plt.show()\\n\""
            ],
            "application/vnd.google.colaboratory.intrinsic+json": {
              "type": "string"
            }
          },
          "metadata": {},
          "execution_count": 87
        }
      ]
    },
    {
      "cell_type": "code",
      "source": [
        "plt.plot(df['Acceleration'], df['Force'], label='Acceleration', color='red')\n",
        "plt.plot(df['Velocity'], df['Force'], label='Velocity', color='blue')\n",
        "plt.plot(df['Position'], df['Force'], label='Position', color='yellow')\n",
        "\n",
        "plt.title('', fontsize=14)\n",
        "#plt.xlabel('X-Axis', fontsize=14)\n",
        "plt.ylabel('Net Force', fontsize=14)\n",
        "plt.legend(loc='best',fancybox=True, shadow=True)\n",
        "plt.grid(True)\n",
        "plt.show()"
      ],
      "metadata": {
        "colab": {
          "base_uri": "https://localhost:8080/",
          "height": 265
        },
        "id": "neg-ZR5_HKdi",
        "outputId": "56eadfa9-4a86-4d62-bf48-8c47986eccd4"
      },
      "execution_count": 88,
      "outputs": [
        {
          "output_type": "display_data",
          "data": {
            "text/plain": [
              "<Figure size 432x288 with 1 Axes>"
            ],
            "image/png": "[encoded data removed]"
          },
          "metadata": {
            "needs_background": "light"
          }
        }
      ]
    },
    {
      "cell_type": "code",
      "source": [
        "# write a function to calculate the force using the new coefficients and append to values to a list\n",
        "# coefficients using linear regression\n",
        "M1 = 595.702639\n",
        "C1 = 77.1863176 \n",
        "K1 = 0.0981823602\n",
        "\n",
        "# coefficients using sgd regression\n",
        "M2 = 872659867.0 \n",
        "C2 = 47736299200.0 \n",
        "K2 = -91329637900.0\n",
        "force_new = []\n",
        "def my_fcn(M, C, K):\n",
        "  force_new[:] = []\n",
        "  for i in range(len(df)):\n",
        "    force = M*df['Acceleration'][i] + C*df['Velocity'][i] + K*df['Position'][i]\n",
        "    #print(force)\n",
        "    force_new.append(force)\n",
        "  return force_new"
      ],
      "metadata": {
        "id": "NFGBzRhVnHyL"
      },
      "execution_count": 89,
      "outputs": []
    },
    {
      "cell_type": "code",
      "source": [
        "# using regression coefficients\n",
        "my_fcn(M1,C1,K1)\n",
        "# pass in the calculated force as a new column in the dataframe\n",
        "df['Force LR'] = force_new\n",
        "# using gradient descent coefficients\n",
        "my_fcn(M2,C2,K2)\n",
        "# pass in the calculated force as a new column in the dataframe\n",
        "df['Force SGD'] = force_new"
      ],
      "metadata": {
        "id": "Zrl2Cb3XDMtk"
      },
      "execution_count": 90,
      "outputs": []
    },
    {
      "cell_type": "code",
      "source": [
        "df"
      ],
      "metadata": {
        "colab": {
          "base_uri": "https://localhost:8080/",
          "height": 424
        },
        "id": "HH_iP6HvHwyp",
        "outputId": "d75ec327-bb83-46eb-abc5-7d7ae59f175b"
      },
      "execution_count": 91,
      "outputs": [
        {
          "output_type": "execute_result",
          "data": {
            "text/plain": [
              "     Acceleration  Velocity    Position      Force   Force LR     Force SGD\n",
              "0        0.160962 -0.482996   45.158492  42.924609  63.038717 -4.147225e+12\n",
              "1        0.155914 -0.327082   44.831410  55.068349  72.034004 -4.109914e+12\n",
              "2        0.150866 -0.176215   44.655195  66.607411  80.654473 -4.086623e+12\n",
              "3        0.145818 -0.030397   44.624799  77.556175  88.899630 -4.076890e+12\n",
              "4        0.140771  0.110374   44.735173  87.929025  96.768979 -4.080255e+12\n",
              "..            ...       ...         ...        ...        ...           ...\n",
              "99      -0.034629  0.085888  183.456690  10.286581   4.012945 -1.675096e+13\n",
              "100     -0.033274  0.052614  183.509304   8.326980   2.257171 -1.675736e+13\n",
              "101     -0.031919  0.020696  183.530000   6.420293   0.602874 -1.676077e+13\n",
              "102     -0.030563 -0.009868  183.520132   4.565424  -0.949815 -1.676132e+13\n",
              "103     -0.029208 -0.039076  183.481057   2.761275  -2.400763 -1.675915e+13\n",
              "\n",
              "[104 rows x 6 columns]"
            ],
            "text/html": [
              "\n",
              "  <div id=\"df-bb995b27-6bf8-4b57-bf72-0799c3b4fc74\">\n",
              "    <div class=\"colab-df-container\">\n",
              "      <div>\n",
              "<style scoped>\n",
              "    .dataframe tbody tr th:only-of-type {\n",
              "        vertical-align: middle;\n",
              "    }\n",
              "\n",
              "    .dataframe tbody tr th {\n",
              "        vertical-align: top;\n",
              "    }\n",
              "\n",
              "    .dataframe thead th {\n",
              "        text-align: right;\n",
              "    }\n",
              "</style>\n",
              "<table border=\"1\" class=\"dataframe\">\n",
              "  <thead>\n",
              "    <tr style=\"text-align: right;\">\n",
              "      <th></th>\n",
              "      <th>Acceleration</th>\n",
              "      <th>Velocity</th>\n",
              "      <th>Position</th>\n",
              "      <th>Force</th>\n",
              "      <th>Force LR</th>\n",
              "      <th>Force SGD</th>\n",
              "    </tr>\n",
              "  </thead>\n",
              "  <tbody>\n",
              "    <tr>\n",
              "      <th>0</th>\n",
              "      <td>0.160962</td>\n",
              "      <td>-0.482996</td>\n",
              "      <td>45.158492</td>\n",
              "      <td>42.924609</td>\n",
              "      <td>63.038717</td>\n",
              "      <td>-4.147225e+12</td>\n",
              "    </tr>\n",
              "    <tr>\n",
              "      <th>1</th>\n",
              "      <td>0.155914</td>\n",
              "      <td>-0.327082</td>\n",
              "      <td>44.831410</td>\n",
              "      <td>55.068349</td>\n",
              "      <td>72.034004</td>\n",
              "      <td>-4.109914e+12</td>\n",
              "    </tr>\n",
              "    <tr>\n",
              "      <th>2</th>\n",
              "      <td>0.150866</td>\n",
              "      <td>-0.176215</td>\n",
              "      <td>44.655195</td>\n",
              "      <td>66.607411</td>\n",
              "      <td>80.654473</td>\n",
              "      <td>-4.086623e+12</td>\n",
              "    </tr>\n",
              "    <tr>\n",
              "      <th>3</th>\n",
              "      <td>0.145818</td>\n",
              "      <td>-0.030397</td>\n",
              "      <td>44.624799</td>\n",
              "      <td>77.556175</td>\n",
              "      <td>88.899630</td>\n",
              "      <td>-4.076890e+12</td>\n",
              "    </tr>\n",
              "    <tr>\n",
              "      <th>4</th>\n",
              "      <td>0.140771</td>\n",
              "      <td>0.110374</td>\n",
              "      <td>44.735173</td>\n",
              "      <td>87.929025</td>\n",
              "      <td>96.768979</td>\n",
              "      <td>-4.080255e+12</td>\n",
              "    </tr>\n",
              "    <tr>\n",
              "      <th>...</th>\n",
              "      <td>...</td>\n",
              "      <td>...</td>\n",
              "      <td>...</td>\n",
              "      <td>...</td>\n",
              "      <td>...</td>\n",
              "      <td>...</td>\n",
              "    </tr>\n",
              "    <tr>\n",
              "      <th>99</th>\n",
              "      <td>-0.034629</td>\n",
              "      <td>0.085888</td>\n",
              "      <td>183.456690</td>\n",
              "      <td>10.286581</td>\n",
              "      <td>4.012945</td>\n",
              "      <td>-1.675096e+13</td>\n",
              "    </tr>\n",
              "    <tr>\n",
              "      <th>100</th>\n",
              "      <td>-0.033274</td>\n",
              "      <td>0.052614</td>\n",
              "      <td>183.509304</td>\n",
              "      <td>8.326980</td>\n",
              "      <td>2.257171</td>\n",
              "      <td>-1.675736e+13</td>\n",
              "    </tr>\n",
              "    <tr>\n",
              "      <th>101</th>\n",
              "      <td>-0.031919</td>\n",
              "      <td>0.020696</td>\n",
              "      <td>183.530000</td>\n",
              "      <td>6.420293</td>\n",
              "      <td>0.602874</td>\n",
              "      <td>-1.676077e+13</td>\n",
              "    </tr>\n",
              "    <tr>\n",
              "      <th>102</th>\n",
              "      <td>-0.030563</td>\n",
              "      <td>-0.009868</td>\n",
              "      <td>183.520132</td>\n",
              "      <td>4.565424</td>\n",
              "      <td>-0.949815</td>\n",
              "      <td>-1.676132e+13</td>\n",
              "    </tr>\n",
              "    <tr>\n",
              "      <th>103</th>\n",
              "      <td>-0.029208</td>\n",
              "      <td>-0.039076</td>\n",
              "      <td>183.481057</td>\n",
              "      <td>2.761275</td>\n",
              "      <td>-2.400763</td>\n",
              "      <td>-1.675915e+13</td>\n",
              "    </tr>\n",
              "  </tbody>\n",
              "</table>\n",
              "<p>104 rows × 6 columns</p>\n",
              "</div>\n",
              "      <button class=\"colab-df-convert\" onclick=\"convertToInteractive('df-bb995b27-6bf8-4b57-bf72-0799c3b4fc74')\"\n",
              "              title=\"Convert this dataframe to an interactive table.\"\n",
              "              style=\"display:none;\">\n",
              "        \n",
              "  <svg xmlns=\"http://www.w3.org/2000/svg\" height=\"24px\"viewBox=\"0 0 24 24\"\n",
              "       width=\"24px\">\n",
              "    <path d=\"M0 0h24v24H0V0z\" fill=\"none\"/>\n",
              "    <path d=\"M18.56 5.44l.94 2.06.94-2.06 2.06-.94-2.06-.94-.94-2.06-.94 2.06-2.06.94zm-11 1L8.5 8.5l.94-2.06 2.06-.94-2.06-.94L8.5 2.5l-.94 2.06-2.06.94zm10 10l.94 2.06.94-2.06 2.06-.94-2.06-.94-.94-2.06-.94 2.06-2.06.94z\"/><path d=\"M17.41 7.96l-1.37-1.37c-.4-.4-.92-.59-1.43-.59-.52 0-1.04.2-1.43.59L10.3 9.45l-7.72 7.72c-.78.78-.78 2.05 0 2.83L4 21.41c.39.39.9.59 1.41.59.51 0 1.02-.2 1.41-.59l7.78-7.78 2.81-2.81c.8-.78.8-2.07 0-2.86zM5.41 20L4 18.59l7.72-7.72 1.47 1.35L5.41 20z\"/>\n",
              "  </svg>\n",
              "      </button>\n",
              "      \n",
              "  <style>\n",
              "    .colab-df-container {\n",
              "      display:flex;\n",
              "      flex-wrap:wrap;\n",
              "      gap: 12px;\n",
              "    }\n",
              "\n",
              "    .colab-df-convert {\n",
              "      background-color: #E8F0FE;\n",
              "      border: none;\n",
              "      border-radius: 50%;\n",
              "      cursor: pointer;\n",
              "      display: none;\n",
              "      fill: #1967D2;\n",
              "      height: 32px;\n",
              "      padding: 0 0 0 0;\n",
              "      width: 32px;\n",
              "    }\n",
              "\n",
              "    .colab-df-convert:hover {\n",
              "      background-color: #E2EBFA;\n",
              "      box-shadow: 0px 1px 2px rgba(60, 64, 67, 0.3), 0px 1px 3px 1px rgba(60, 64, 67, 0.15);\n",
              "      fill: #174EA6;\n",
              "    }\n",
              "\n",
              "    [theme=dark] .colab-df-convert {\n",
              "      background-color: #3B4455;\n",
              "      fill: #D2E3FC;\n",
              "    }\n",
              "\n",
              "    [theme=dark] .colab-df-convert:hover {\n",
              "      background-color: #434B5C;\n",
              "      box-shadow: 0px 1px 3px 1px rgba(0, 0, 0, 0.15);\n",
              "      filter: drop-shadow(0px 1px 2px rgba(0, 0, 0, 0.3));\n",
              "      fill: #FFFFFF;\n",
              "    }\n",
              "  </style>\n",
              "\n",
              "      <script>\n",
              "        const buttonEl =\n",
              "          document.querySelector('#df-bb995b27-6bf8-4b57-bf72-0799c3b4fc74 button.colab-df-convert');\n",
              "        buttonEl.style.display =\n",
              "          google.colab.kernel.accessAllowed ? 'block' : 'none';\n",
              "\n",
              "        async function convertToInteractive(key) {\n",
              "          const element = document.querySelector('#df-bb995b27-6bf8-4b57-bf72-0799c3b4fc74');\n",
              "          const dataTable =\n",
              "            await google.colab.kernel.invokeFunction('convertToInteractive',\n",
              "                                                     [key], {});\n",
              "          if (!dataTable) return;\n",
              "\n",
              "          const docLinkHtml = 'Like what you see? Visit the ' +\n",
              "            '<a target=\"_blank\" href=https://colab.research.google.com/notebooks/data_table.ipynb>data table notebook</a>'\n",
              "            + ' to learn more about interactive tables.';\n",
              "          element.innerHTML = '';\n",
              "          dataTable['output_type'] = 'display_data';\n",
              "          await google.colab.output.renderOutput(dataTable, element);\n",
              "          const docLink = document.createElement('div');\n",
              "          docLink.innerHTML = docLinkHtml;\n",
              "          element.appendChild(docLink);\n",
              "        }\n",
              "      </script>\n",
              "    </div>\n",
              "  </div>\n",
              "  "
            ]
          },
          "metadata": {},
          "execution_count": 91
        }
      ]
    },
    {
      "cell_type": "code",
      "source": [
        "# find rmse\n",
        "def rmse(force1, force2):\n",
        "    x = []\n",
        "    for i in range(len(df)):\n",
        "      rms = np.sqrt(((force1[i] - force2[i]) ** 2).mean())\n",
        "      x.append(rms)\n",
        "    return x"
      ],
      "metadata": {
        "id": "5jT9Z-_pZaL2"
      },
      "execution_count": 92,
      "outputs": []
    },
    {
      "cell_type": "code",
      "source": [
        "rmse(df['Force'], df['Force LR'])\n",
        "df['Force-ForceLR RMSE'] = rmse(df['Force'], df['Force LR'])"
      ],
      "metadata": {
        "id": "9-v0r461a91J"
      },
      "execution_count": 93,
      "outputs": []
    },
    {
      "cell_type": "code",
      "source": [
        "df"
      ],
      "metadata": {
        "colab": {
          "base_uri": "https://localhost:8080/",
          "height": 424
        },
        "id": "kBAMpu5TnrRS",
        "outputId": "d88fb1a2-a649-4575-9335-18d85dc8d057"
      },
      "execution_count": 94,
      "outputs": [
        {
          "output_type": "execute_result",
          "data": {
            "text/plain": [
              "     Acceleration  Velocity    Position      Force   Force LR     Force SGD  \\\n",
              "0        0.160962 -0.482996   45.158492  42.924609  63.038717 -4.147225e+12   \n",
              "1        0.155914 -0.327082   44.831410  55.068349  72.034004 -4.109914e+12   \n",
              "2        0.150866 -0.176215   44.655195  66.607411  80.654473 -4.086623e+12   \n",
              "3        0.145818 -0.030397   44.624799  77.556175  88.899630 -4.076890e+12   \n",
              "4        0.140771  0.110374   44.735173  87.929025  96.768979 -4.080255e+12   \n",
              "..            ...       ...         ...        ...        ...           ...   \n",
              "99      -0.034629  0.085888  183.456690  10.286581   4.012945 -1.675096e+13   \n",
              "100     -0.033274  0.052614  183.509304   8.326980   2.257171 -1.675736e+13   \n",
              "101     -0.031919  0.020696  183.530000   6.420293   0.602874 -1.676077e+13   \n",
              "102     -0.030563 -0.009868  183.520132   4.565424  -0.949815 -1.676132e+13   \n",
              "103     -0.029208 -0.039076  183.481057   2.761275  -2.400763 -1.675915e+13   \n",
              "\n",
              "     Force-ForceLR RMSE  \n",
              "0             20.114108  \n",
              "1             16.965654  \n",
              "2             14.047063  \n",
              "3             11.343455  \n",
              "4              8.839954  \n",
              "..                  ...  \n",
              "99             6.273637  \n",
              "100            6.069808  \n",
              "101            5.817419  \n",
              "102            5.515239  \n",
              "103            5.162038  \n",
              "\n",
              "[104 rows x 7 columns]"
            ],
            "text/html": [
              "\n",
              "  <div id=\"df-9b7c4720-89b3-4744-b892-5bf08272deb1\">\n",
              "    <div class=\"colab-df-container\">\n",
              "      <div>\n",
              "<style scoped>\n",
              "    .dataframe tbody tr th:only-of-type {\n",
              "        vertical-align: middle;\n",
              "    }\n",
              "\n",
              "    .dataframe tbody tr th {\n",
              "        vertical-align: top;\n",
              "    }\n",
              "\n",
              "    .dataframe thead th {\n",
              "        text-align: right;\n",
              "    }\n",
              "</style>\n",
              "<table border=\"1\" class=\"dataframe\">\n",
              "  <thead>\n",
              "    <tr style=\"text-align: right;\">\n",
              "      <th></th>\n",
              "      <th>Acceleration</th>\n",
              "      <th>Velocity</th>\n",
              "      <th>Position</th>\n",
              "      <th>Force</th>\n",
              "      <th>Force LR</th>\n",
              "      <th>Force SGD</th>\n",
              "      <th>Force-ForceLR RMSE</th>\n",
              "    </tr>\n",
              "  </thead>\n",
              "  <tbody>\n",
              "    <tr>\n",
              "      <th>0</th>\n",
              "      <td>0.160962</td>\n",
              "      <td>-0.482996</td>\n",
              "      <td>45.158492</td>\n",
              "      <td>42.924609</td>\n",
              "      <td>63.038717</td>\n",
              "      <td>-4.147225e+12</td>\n",
              "      <td>20.114108</td>\n",
              "    </tr>\n",
              "    <tr>\n",
              "      <th>1</th>\n",
              "      <td>0.155914</td>\n",
              "      <td>-0.327082</td>\n",
              "      <td>44.831410</td>\n",
              "      <td>55.068349</td>\n",
              "      <td>72.034004</td>\n",
              "      <td>-4.109914e+12</td>\n",
              "      <td>16.965654</td>\n",
              "    </tr>\n",
              "    <tr>\n",
              "      <th>2</th>\n",
              "      <td>0.150866</td>\n",
              "      <td>-0.176215</td>\n",
              "      <td>44.655195</td>\n",
              "      <td>66.607411</td>\n",
              "      <td>80.654473</td>\n",
              "      <td>-4.086623e+12</td>\n",
              "      <td>14.047063</td>\n",
              "    </tr>\n",
              "    <tr>\n",
              "      <th>3</th>\n",
              "      <td>0.145818</td>\n",
              "      <td>-0.030397</td>\n",
              "      <td>44.624799</td>\n",
              "      <td>77.556175</td>\n",
              "      <td>88.899630</td>\n",
              "      <td>-4.076890e+12</td>\n",
              "      <td>11.343455</td>\n",
              "    </tr>\n",
              "    <tr>\n",
              "      <th>4</th>\n",
              "      <td>0.140771</td>\n",
              "      <td>0.110374</td>\n",
              "      <td>44.735173</td>\n",
              "      <td>87.929025</td>\n",
              "      <td>96.768979</td>\n",
              "      <td>-4.080255e+12</td>\n",
              "      <td>8.839954</td>\n",
              "    </tr>\n",
              "    <tr>\n",
              "      <th>...</th>\n",
              "      <td>...</td>\n",
              "      <td>...</td>\n",
              "      <td>...</td>\n",
              "      <td>...</td>\n",
              "      <td>...</td>\n",
              "      <td>...</td>\n",
              "      <td>...</td>\n",
              "    </tr>\n",
              "    <tr>\n",
              "      <th>99</th>\n",
              "      <td>-0.034629</td>\n",
              "      <td>0.085888</td>\n",
              "      <td>183.456690</td>\n",
              "      <td>10.286581</td>\n",
              "      <td>4.012945</td>\n",
              "      <td>-1.675096e+13</td>\n",
              "      <td>6.273637</td>\n",
              "    </tr>\n",
              "    <tr>\n",
              "      <th>100</th>\n",
              "      <td>-0.033274</td>\n",
              "      <td>0.052614</td>\n",
              "      <td>183.509304</td>\n",
              "      <td>8.326980</td>\n",
              "      <td>2.257171</td>\n",
              "      <td>-1.675736e+13</td>\n",
              "      <td>6.069808</td>\n",
              "    </tr>\n",
              "    <tr>\n",
              "      <th>101</th>\n",
              "      <td>-0.031919</td>\n",
              "      <td>0.020696</td>\n",
              "      <td>183.530000</td>\n",
              "      <td>6.420293</td>\n",
              "      <td>0.602874</td>\n",
              "      <td>-1.676077e+13</td>\n",
              "      <td>5.817419</td>\n",
              "    </tr>\n",
              "    <tr>\n",
              "      <th>102</th>\n",
              "      <td>-0.030563</td>\n",
              "      <td>-0.009868</td>\n",
              "      <td>183.520132</td>\n",
              "      <td>4.565424</td>\n",
              "      <td>-0.949815</td>\n",
              "      <td>-1.676132e+13</td>\n",
              "      <td>5.515239</td>\n",
              "    </tr>\n",
              "    <tr>\n",
              "      <th>103</th>\n",
              "      <td>-0.029208</td>\n",
              "      <td>-0.039076</td>\n",
              "      <td>183.481057</td>\n",
              "      <td>2.761275</td>\n",
              "      <td>-2.400763</td>\n",
              "      <td>-1.675915e+13</td>\n",
              "      <td>5.162038</td>\n",
              "    </tr>\n",
              "  </tbody>\n",
              "</table>\n",
              "<p>104 rows × 7 columns</p>\n",
              "</div>\n",
              "      <button class=\"colab-df-convert\" onclick=\"convertToInteractive('df-9b7c4720-89b3-4744-b892-5bf08272deb1')\"\n",
              "              title=\"Convert this dataframe to an interactive table.\"\n",
              "              style=\"display:none;\">\n",
              "        \n",
              "  <svg xmlns=\"http://www.w3.org/2000/svg\" height=\"24px\"viewBox=\"0 0 24 24\"\n",
              "       width=\"24px\">\n",
              "    <path d=\"M0 0h24v24H0V0z\" fill=\"none\"/>\n",
              "    <path d=\"M18.56 5.44l.94 2.06.94-2.06 2.06-.94-2.06-.94-.94-2.06-.94 2.06-2.06.94zm-11 1L8.5 8.5l.94-2.06 2.06-.94-2.06-.94L8.5 2.5l-.94 2.06-2.06.94zm10 10l.94 2.06.94-2.06 2.06-.94-2.06-.94-.94-2.06-.94 2.06-2.06.94z\"/><path d=\"M17.41 7.96l-1.37-1.37c-.4-.4-.92-.59-1.43-.59-.52 0-1.04.2-1.43.59L10.3 9.45l-7.72 7.72c-.78.78-.78 2.05 0 2.83L4 21.41c.39.39.9.59 1.41.59.51 0 1.02-.2 1.41-.59l7.78-7.78 2.81-2.81c.8-.78.8-2.07 0-2.86zM5.41 20L4 18.59l7.72-7.72 1.47 1.35L5.41 20z\"/>\n",
              "  </svg>\n",
              "      </button>\n",
              "      \n",
              "  <style>\n",
              "    .colab-df-container {\n",
              "      display:flex;\n",
              "      flex-wrap:wrap;\n",
              "      gap: 12px;\n",
              "    }\n",
              "\n",
              "    .colab-df-convert {\n",
              "      background-color: #E8F0FE;\n",
              "      border: none;\n",
              "      border-radius: 50%;\n",
              "      cursor: pointer;\n",
              "      display: none;\n",
              "      fill: #1967D2;\n",
              "      height: 32px;\n",
              "      padding: 0 0 0 0;\n",
              "      width: 32px;\n",
              "    }\n",
              "\n",
              "    .colab-df-convert:hover {\n",
              "      background-color: #E2EBFA;\n",
              "      box-shadow: 0px 1px 2px rgba(60, 64, 67, 0.3), 0px 1px 3px 1px rgba(60, 64, 67, 0.15);\n",
              "      fill: #174EA6;\n",
              "    }\n",
              "\n",
              "    [theme=dark] .colab-df-convert {\n",
              "      background-color: #3B4455;\n",
              "      fill: #D2E3FC;\n",
              "    }\n",
              "\n",
              "    [theme=dark] .colab-df-convert:hover {\n",
              "      background-color: #434B5C;\n",
              "      box-shadow: 0px 1px 3px 1px rgba(0, 0, 0, 0.15);\n",
              "      filter: drop-shadow(0px 1px 2px rgba(0, 0, 0, 0.3));\n",
              "      fill: #FFFFFF;\n",
              "    }\n",
              "  </style>\n",
              "\n",
              "      <script>\n",
              "        const buttonEl =\n",
              "          document.querySelector('#df-9b7c4720-89b3-4744-b892-5bf08272deb1 button.colab-df-convert');\n",
              "        buttonEl.style.display =\n",
              "          google.colab.kernel.accessAllowed ? 'block' : 'none';\n",
              "\n",
              "        async function convertToInteractive(key) {\n",
              "          const element = document.querySelector('#df-9b7c4720-89b3-4744-b892-5bf08272deb1');\n",
              "          const dataTable =\n",
              "            await google.colab.kernel.invokeFunction('convertToInteractive',\n",
              "                                                     [key], {});\n",
              "          if (!dataTable) return;\n",
              "\n",
              "          const docLinkHtml = 'Like what you see? Visit the ' +\n",
              "            '<a target=\"_blank\" href=https://colab.research.google.com/notebooks/data_table.ipynb>data table notebook</a>'\n",
              "            + ' to learn more about interactive tables.';\n",
              "          element.innerHTML = '';\n",
              "          dataTable['output_type'] = 'display_data';\n",
              "          await google.colab.output.renderOutput(dataTable, element);\n",
              "          const docLink = document.createElement('div');\n",
              "          docLink.innerHTML = docLinkHtml;\n",
              "          element.appendChild(docLink);\n",
              "        }\n",
              "      </script>\n",
              "    </div>\n",
              "  </div>\n",
              "  "
            ]
          },
          "metadata": {},
          "execution_count": 94
        }
      ]
    },
    {
      "cell_type": "markdown",
      "source": [
        "Plot the data"
      ],
      "metadata": {
        "id": "Fht0Sty0ZYLD"
      }
    },
    {
      "cell_type": "code",
      "source": [
        "x = np.linspace(0,2060,104)\n",
        "y0 = df['Force']\n",
        "y1 = df['Force LR']\n",
        "y2 = df['Force SGD']\n",
        "\n",
        "plt.plot(x, y0, label='Original Force', color='red')\n",
        "plt.title('', fontsize=14)\n",
        "plt.xlabel('Time (milliseconds)', fontsize=14)\n",
        "plt.ylabel('Net Force', fontsize=14)\n",
        "plt.legend(loc='best',fancybox=True, shadow=True)\n",
        "plt.grid(True)\n",
        "plt.show()\n",
        "\n",
        "plt.plot(x, y1, label='Force (Linear Regression)', color='blue')\n",
        "plt.title('', fontsize=14)\n",
        "plt.xlabel('Time (milliseconds)', fontsize=14)\n",
        "plt.ylabel('Net Force', fontsize=14)\n",
        "plt.legend(loc='best',fancybox=True, shadow=True)\n",
        "plt.grid(True)\n",
        "plt.show()\n",
        "\n",
        "plt.plot(x, y2, label='Force (SGD Regression)', color='yellow')\n",
        "plt.title('', fontsize=14)\n",
        "plt.xlabel('Time (milliseconds)', fontsize=14)\n",
        "plt.ylabel('Net Force', fontsize=14)\n",
        "plt.legend(loc='best',fancybox=True, shadow=True)\n",
        "plt.grid(True)\n",
        "plt.show()\n"
      ],
      "metadata": {
        "colab": {
          "base_uri": "https://localhost:8080/",
          "height": 826
        },
        "id": "0jlEA7CTJV9K",
        "outputId": "caec15b9-2f3b-498d-8ec4-edfd95b2340d"
      },
      "execution_count": 95,
      "outputs": [
        {
          "output_type": "display_data",
          "data": {
            "text/plain": [
              "<Figure size 432x288 with 1 Axes>"
            ],
            "image/png": "[encoded data removed]"
          },
          "metadata": {
            "needs_background": "light"
          }
        },
        {
          "output_type": "display_data",
          "data": {
            "text/plain": [
              "<Figure size 432x288 with 1 Axes>"
            ],
            "image/png": "[encoded data removed]"
          },
          "metadata": {
            "needs_background": "light"
          }
        },
        {
          "output_type": "display_data",
          "data": {
            "text/plain": [
              "<Figure size 432x288 with 1 Axes>"
            ],
            "image/png": "[encoded data removed]"
          },
          "metadata": {
            "needs_background": "light"
          }
        }
      ]
    },
    {
      "cell_type": "code",
      "source": [
        "'''\n",
        "import numpy as np  \n",
        "import matplotlib.pyplot as plt  \n",
        "plt.figure() # Create a new figure window\n",
        "xlist = np.linspace(-2.0, 2.0, 100) # Create 1-D arrays for x,y dimensions\n",
        "ylist = np.linspace(-2.0, 2.0, 100) \n",
        "X,Y = np.meshgrid(xlist, ylist) # Create 2-D grid xlist,ylist values\n",
        "F = X**3 + Y**3 - 1  #  'Circle Equation\n",
        "plt.contour(X, Y, F, [0], colors = 'k', linestyles = 'solid')\n",
        "plt.show()\n",
        "'''"
      ],
      "metadata": {
        "colab": {
          "base_uri": "https://localhost:8080/",
          "height": 71
        },
        "id": "jVgI38hHKi8R",
        "outputId": "52366865-f743-4281-c358-4a1b65621949"
      },
      "execution_count": 97,
      "outputs": [
        {
          "output_type": "execute_result",
          "data": {
            "text/plain": [
              "\"\\nimport numpy as np  \\nimport matplotlib.pyplot as plt  \\nplt.figure() # Create a new figure window\\nxlist = np.linspace(-2.0, 2.0, 100) # Create 1-D arrays for x,y dimensions\\nylist = np.linspace(-2.0, 2.0, 100) \\nX,Y = np.meshgrid(xlist, ylist) # Create 2-D grid xlist,ylist values\\nF = X**3 + Y**3 - 1  #  'Circle Equation\\nplt.contour(X, Y, F, [0], colors = 'k', linestyles = 'solid')\\nplt.show()\\n\""
            ],
            "application/vnd.google.colaboratory.intrinsic+json": {
              "type": "string"
            }
          },
          "metadata": {},
          "execution_count": 97
        }
      ]
    }
  ]
}